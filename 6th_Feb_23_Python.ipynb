{
 "cells": [
  {
   "cell_type": "code",
   "execution_count": 1,
   "id": "25068544-5814-4f07-9cff-b9217bb080b0",
   "metadata": {},
   "outputs": [],
   "source": [
    "# Q1. Create a function which will take a list as an argument and return the product of all the numbers\n",
    "# after creating a flat list.\n",
    "# Use the below-given list as an argument for your function.\n",
    "# list1 = [1,2,3,4, [44,55,66, True], False, (34,56,78,89,34), {1,2,3,3,2,1}, {1:34, \"key2\": [55, 67, 78, 89], 4: (45,\n",
    "# 22, 61, 34)}, [56, 'data science'], 'Machine Learning']\n",
    "# Note: you must extract numeric keys and values of the dictionary also."
   ]
  },
  {
   "cell_type": "code",
   "execution_count": 9,
   "id": "5a54a839-5d97-4f98-a204-1b33baf87393",
   "metadata": {},
   "outputs": [
    {
     "name": "stdout",
     "output_type": "stream",
     "text": [
      "The product of all the numbers in the given list is :  4134711838987085478833841242112000\n"
     ]
    }
   ],
   "source": [
    "# Ans:-\n",
    "\n",
    "def product_of_numbers(lst):\n",
    "    flat_lst = []\n",
    "    def flattened_lst(lst):\n",
    "        for i in lst:\n",
    "            if isinstance(i,(int,float)) and not isinstance(i,bool):\n",
    "                flat_lst.append(i)\n",
    "            elif isinstance(i,(list,set,tuple)):\n",
    "                flattened_lst(i)\n",
    "            elif isinstance(i,dict):\n",
    "                flattened_lst(i.keys())\n",
    "                flattened_lst(i.values())\n",
    "\n",
    "    flattened_lst(lst)\n",
    "    \n",
    "    prod = 1\n",
    "    for i in flat_lst:\n",
    "        prod *= i\n",
    "        \n",
    "    return prod\n",
    "\n",
    "list1 = [1,2,3,4, [44,55,66, True], False, (34,56,78,89,34), {1,2,3,3,2,1}, {1:34, \"key2\": [55, 67, 78, 89], 4: (45,\n",
    "        22, 61, 34)}, [56, 'data science'], 'Machine Learning']\n",
    "print(\"The product of all the numbers in the given list is : \", product_of_numbers(list1))"
   ]
  },
  {
   "cell_type": "code",
   "execution_count": null,
   "id": "837934c9-3ab3-487c-98ef-8719f1f445db",
   "metadata": {},
   "outputs": [],
   "source": [
    "\n",
    "\n"
   ]
  },
  {
   "cell_type": "code",
   "execution_count": 10,
   "id": "de2b3d1d-750b-408c-a5d2-2386952b4549",
   "metadata": {},
   "outputs": [],
   "source": [
    "# Q2. Write a python program for encrypting a message sent to you by your friend. The logic of encryption\n",
    "# should be such that, for a the output should be z. For b, the output should be y. For c, the output should\n",
    "# be x respectively. Also, the whitespace should be replaced with a dollar sign. Keep the punctuation\n",
    "# marks unchanged.\n",
    "# Input Sentence: I want to become a Data Scientist.\n",
    "# Encrypt the above input sentence using the program you just created.\n",
    "# Note: Convert the given input sentence into lowercase before encrypting. The final output should be\n",
    "# lowercase."
   ]
  },
  {
   "cell_type": "code",
   "execution_count": 14,
   "id": "89b76482-07d2-42c7-855b-6094b5da6e87",
   "metadata": {},
   "outputs": [
    {
     "name": "stdout",
     "output_type": "stream",
     "text": [
      "Encryoted Message is :  r$dzmg$gl$yvxlnv$z$wzgz$hxrvmgrhg\n"
     ]
    }
   ],
   "source": [
    "def encryptd_msg(msg):\n",
    "    result = \"\"\n",
    "    for i in msg:\n",
    "        if i.isalpha():\n",
    "            encryptd_txt = chr(ord('z') - (ord(i.lower())-ord('a')))\n",
    "        elif i.isspace():\n",
    "            encryptd_txt = \"$\"\n",
    "        result += encryptd_txt\n",
    "    return result\n",
    "\n",
    "msg = \"I want to become a Data Scientist\"\n",
    "\n",
    "print(\"Encryoted Message is : \", encryptd_msg(msg))"
   ]
  },
  {
   "cell_type": "code",
   "execution_count": null,
   "id": "e2bfbb2b-2871-4ecf-9df7-21bc98d7130b",
   "metadata": {},
   "outputs": [],
   "source": []
  }
 ],
 "metadata": {
  "kernelspec": {
   "display_name": "Python 3 (ipykernel)",
   "language": "python",
   "name": "python3"
  },
  "language_info": {
   "codemirror_mode": {
    "name": "ipython",
    "version": 3
   },
   "file_extension": ".py",
   "mimetype": "text/x-python",
   "name": "python",
   "nbconvert_exporter": "python",
   "pygments_lexer": "ipython3",
   "version": "3.10.8"
  }
 },
 "nbformat": 4,
 "nbformat_minor": 5
}
